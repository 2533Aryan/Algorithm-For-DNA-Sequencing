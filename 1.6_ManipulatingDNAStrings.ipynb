{
 "cells": [
  {
   "attachments": {},
   "cell_type": "markdown",
   "metadata": {},
   "source": [
    "# In this module:\n",
    "- longest common prefix function \n",
    "- match function\n",
    "- complement function\n",
    "- reverse complement function\n"
   ]
  },
  {
   "cell_type": "code",
   "execution_count": null,
   "metadata": {},
   "outputs": [],
   "source": []
  }
 ],
 "metadata": {
  "kernelspec": {
   "display_name": "Python 3",
   "language": "python",
   "name": "python3"
  },
  "language_info": {
   "name": "python",
   "version": "3.10.0 (tags/v3.10.0:b494f59, Oct  4 2021, 19:00:18) [MSC v.1929 64 bit (AMD64)]"
  },
  "orig_nbformat": 4,
  "vscode": {
   "interpreter": {
    "hash": "33253a0601158eddda89418d8e2dea93756f1beefb416e89292a723bb86d155a"
   }
  }
 },
 "nbformat": 4,
 "nbformat_minor": 2
}
