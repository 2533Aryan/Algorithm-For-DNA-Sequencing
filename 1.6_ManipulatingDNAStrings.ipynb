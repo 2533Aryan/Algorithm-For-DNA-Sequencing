{
 "cells": [
  {
   "attachments": {},
   "cell_type": "markdown",
   "metadata": {},
   "source": [
    "# In this module:\n",
    "- longest common prefix function \n",
    "- match function\n",
    "- complement function\n",
    "- reverse complement function\n",
    "___"
   ]
  },
  {
   "cell_type": "code",
   "execution_count": null,
   "metadata": {},
   "outputs": [],
   "source": []
  }
 ],
 "metadata": {
  "kernelspec": {
   "display_name": "Python 3",
   "language": "python",
   "name": "python3"
  },
  "language_info": {
   "codemirror_mode": {
    "name": "ipython",
    "version": 3
   },
   "file_extension": ".py",
   "mimetype": "text/x-python",
   "name": "python",
   "nbconvert_exporter": "python",
   "pygments_lexer": "ipython3",
   "version": "3.10.0"
  },
  "orig_nbformat": 4,
  "vscode": {
   "interpreter": {
    "hash": "33253a0601158eddda89418d8e2dea93756f1beefb416e89292a723bb86d155a"
   }
  }
 },
 "nbformat": 4,
 "nbformat_minor": 2
}
